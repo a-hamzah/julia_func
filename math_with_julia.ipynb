{
 "cells": [
  {
   "cell_type": "markdown",
   "metadata": {},
   "source": [
    "# basic julia codes\n",
    "# https://www.youtube.com/watch?v=iYdM9ojrsIE&list=PLdPQZLMHRjDJ5d_dE4FeOviv0gRe4UYsB&index=4&ab_channel=umrobotics"
   ]
  },
  {
   "cell_type": "code",
   "execution_count": null,
   "metadata": {},
   "outputs": [],
   "source": [
    "import Pkg\n",
    "Pkg.add(\"Plots\")"
   ]
  },
  {
   "cell_type": "code",
   "execution_count": null,
   "metadata": {},
   "outputs": [],
   "source": [
    "using Plots"
   ]
  },
  {
   "cell_type": "code",
   "execution_count": null,
   "metadata": {},
   "outputs": [],
   "source": [
    "f(x) = x + 3\n",
    "\n",
    "plot(f, -5, 5)"
   ]
  },
  {
   "cell_type": "code",
   "execution_count": null,
   "metadata": {},
   "outputs": [],
   "source": [
    "# Solve 2x - y = -1, 4x + y = 4\n",
    "# Re-arranging both eqs and keeping y on left\n",
    "\n",
    "y1(x) = 2x + 1\n",
    "y2(x) = 4 - 4x\n",
    "plot([y1,y2], -5, 5, xlabel = \"x\", ylabel = \"y\")"
   ]
  },
  {
   "cell_type": "code",
   "execution_count": null,
   "metadata": {},
   "outputs": [],
   "source": [
    "rowVect = [1 2 3 4 5]\n",
    "# rowVect1 = collect(1:10)'\n",
    "prink = collect(0:2:8)"
   ]
  },
  {
   "cell_type": "code",
   "execution_count": null,
   "metadata": {},
   "outputs": [],
   "source": [
    "# creating matrices\n",
    "onesMat = ones(3,4)"
   ]
  },
  {
   "cell_type": "code",
   "execution_count": null,
   "metadata": {},
   "outputs": [],
   "source": [
    "@assert sum(onesMat) == 12"
   ]
  },
  {
   "cell_type": "code",
   "execution_count": null,
   "metadata": {},
   "outputs": [],
   "source": [
    "zeroMat = zeros(2,1)\n",
    "# zeroMat1 = 7*ones(2,2)"
   ]
  },
  {
   "cell_type": "code",
   "execution_count": null,
   "metadata": {},
   "outputs": [],
   "source": [
    "A = [1 5 0; 3 -1 7; -1 0 2]"
   ]
  },
  {
   "cell_type": "code",
   "execution_count": null,
   "metadata": {},
   "outputs": [],
   "source": [
    "b = [4; 2; -5]"
   ]
  },
  {
   "cell_type": "code",
   "execution_count": null,
   "metadata": {},
   "outputs": [],
   "source": [
    "using Pkg\n",
    "Pkg.add(\"LinearAlgebra\")\n",
    "using LinearAlgebra"
   ]
  },
  {
   "cell_type": "code",
   "execution_count": null,
   "metadata": {},
   "outputs": [],
   "source": [
    "det(A)"
   ]
  },
  {
   "cell_type": "code",
   "execution_count": null,
   "metadata": {},
   "outputs": [],
   "source": [
    "B = [1 1 2 0 0; 2 -1 1 0 0; 1 0 4 0 0; 0 0 2 1 -5; 0 -4 0 12 0]"
   ]
  },
  {
   "cell_type": "code",
   "execution_count": null,
   "metadata": {},
   "outputs": [],
   "source": [
    "det(B)"
   ]
  },
  {
   "cell_type": "code",
   "execution_count": null,
   "metadata": {},
   "outputs": [],
   "source": [
    "row_vec = [1 3 5 7 9]\n",
    "almost_zero_vec = [0; 0; -pi; 0; 0; 0; 0]\n",
    "using Random\n",
    "Random.seed!(1234)\n",
    "rand_mat = rand(3, 4)"
   ]
  },
  {
   "cell_type": "code",
   "execution_count": null,
   "metadata": {},
   "outputs": [],
   "source": [
    "num = almost_zero_vec[3] # index into matrices using SQUARE BRACKETS\n",
    "num1 = rand_mat[2, 1] # 2nd row 1st column entry of rand_mat\n",
    "num2 = rand_mat[:, 3] # selects all rows and 3rd column"
   ]
  },
  {
   "cell_type": "code",
   "execution_count": null,
   "metadata": {},
   "outputs": [],
   "source": [
    "row_vec = rand_mat[1:1, :] # gives row matrix\n",
    "row_vec1 = rand_mat[1:1, 1:end] # same results as above\n",
    "col1 = [0; 0; -pi; 0; 0; 0; 0]'"
   ]
  },
  {
   "cell_type": "code",
   "execution_count": null,
   "metadata": {},
   "outputs": [],
   "source": [
    "A1 = [1 5 0; 3 -1 7; -1 0 2]\n",
    "block_A1 = A1[1:2, 1:2] # takes out the block of elements from A1\n",
    "block1_A1 = A1[2:3, 2:3]\n",
    "num3 = block1_A1[2,2]\n",
    "res = pi/num3\n"
   ]
  },
  {
   "cell_type": "code",
   "execution_count": null,
   "metadata": {},
   "outputs": [],
   "source": [
    "A3 = [1 8 2; 0 3 7; 6 2 9]\n",
    "sums = A3[1, 1] + A3[2, 2] + A3[3, 3]"
   ]
  },
  {
   "cell_type": "code",
   "execution_count": null,
   "metadata": {},
   "outputs": [],
   "source": [
    "for mynum in 1:10 # i is the iterator or dummy variable\n",
    "    println(\"Hi\")\n",
    "end"
   ]
  },
  {
   "cell_type": "code",
   "execution_count": null,
   "metadata": {},
   "outputs": [],
   "source": [
    "for k = 20:-2:2 # step size can be negative\n",
    "    println(k)\n",
    "end"
   ]
  },
  {
   "cell_type": "code",
   "execution_count": null,
   "metadata": {},
   "outputs": [],
   "source": [
    "using Random\n",
    "Random.seed!(1234)\n",
    "rand1 = rand(30,30)"
   ]
  },
  {
   "cell_type": "code",
   "execution_count": null,
   "metadata": {},
   "outputs": [],
   "source": [
    "sums = 0\n",
    "for k = 1:30\n",
    "    # sums = sums + rand1[k,k]\n",
    "    sums += rand1[k,k]\n",
    "end\n",
    "println(sums)"
   ]
  },
  {
   "cell_type": "code",
   "execution_count": null,
   "metadata": {},
   "outputs": [],
   "source": [
    "# print all the numbers below and up of diagonals\n",
    "for i = 1:3\n",
    "    for j = "
   ]
  }
 ],
 "metadata": {
  "kernelspec": {
   "display_name": "Julia 1.9.2",
   "language": "julia",
   "name": "julia-1.9"
  },
  "language_info": {
   "file_extension": ".jl",
   "mimetype": "application/julia",
   "name": "julia",
   "version": "1.9.2"
  },
  "orig_nbformat": 4
 },
 "nbformat": 4,
 "nbformat_minor": 2
}
