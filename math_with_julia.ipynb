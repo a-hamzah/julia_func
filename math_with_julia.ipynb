{
 "cells": [
  {
   "cell_type": "markdown",
   "metadata": {},
   "source": [
    "# basic julia codes\n",
    "# https://www.youtube.com/watch?v=iYdM9ojrsIE&list=PLdPQZLMHRjDJ5d_dE4FeOviv0gRe4UYsB&index=4&ab_channel=umrobotics"
   ]
  },
  {
   "cell_type": "code",
   "execution_count": null,
   "metadata": {},
   "outputs": [],
   "source": [
    "import Pkg\n",
    "Pkg.add(\"Plots\")"
   ]
  },
  {
   "cell_type": "code",
   "execution_count": 2,
   "metadata": {},
   "outputs": [],
   "source": [
    "using Plots"
   ]
  },
  {
   "cell_type": "code",
   "execution_count": 3,
   "metadata": {},
   "outputs": [
    {
     "data": {
      "image/png": "[encoded data removed]",
      "image/svg+xml": [
       "<?xml version=\"1.0\" encoding=\"utf-8\"?>\n",
       "<svg xmlns=\"http://www.w3.org/2000/svg\" xmlns:xlink=\"http://www.w3.org/1999/xlink\" width=\"600\" height=\"400\" viewBox=\"0 0 2400 1600\">\n",
       "<defs>\n",
       "  <clipPath id=\"clip540\">\n",
       "    <rect x=\"0\" y=\"0\" width=\"2400\" height=\"1600\"/>\n",
       "  </clipPath>\n",
       "</defs>\n",
       "<path clip-path=\"url(#clip540)\" d=\"M0 1600 L2400 1600 L2400 0 L0 0  Z\" fill=\"#ffffff\" fill-rule=\"evenodd\" fill-opacity=\"1\"/>\n",
       "<defs>\n",
       "  <clipPath id=\"clip541\">\n",
       "    <rect x=\"480\" y=\"0\" width=\"1681\" height=\"1600\"/>\n",
       "  </clipPath>\n",
       "</defs>\n",
       "<path clip-path=\"url(#clip540)\" d=\"M156.112 1486.45 L2352.76 1486.45 L2352.76 47.2441 L156.112 47.2441  Z\" fill=\"#ffffff\" fill-rule=\"evenodd\" fill-opacity=\"1\"/>\n",
       "<defs>\n",
       "  <clipPath id=\"clip542\">\n",
       "    <rect x=\"156\" y=\"47\" width=\"2198\" height=\"1440\"/>\n",
       "  </clipPath>\n",
       "</defs>\n",
       "<polyline clip-path=\"url(#clip542)\" style=\"stroke:#000000; stroke-linecap:round; stroke-linejoin:round; stroke-width:2; stroke-opacity:0.1; fill:none\" points=\"425.512,1486.45 425.512,47.2441 \"/>\n",
       "<polyline clip-path=\"url(#clip542)\" style=\"stroke:#000000; stroke-linecap:round; stroke-linejoin:round; stroke-width:2; stroke-opacity:0.1; fill:none\" points=\"839.973,1486.45 839.973,47.2441 \"/>\n",
       "<polyline clip-path=\"url(#clip542)\" style=\"stroke:#000000; stroke-linecap:round; stroke-linejoin:round; stroke-width:2; stroke-opacity:0.1; fill:none\" points=\"1254.43,1486.45 1254.43,47.2441 \"/>\n",
       "<polyline clip-path=\"url(#clip542)\" style=\"stroke:#000000; stroke-linecap:round; stroke-linejoin:round; stroke-width:2; stroke-opacity:0.1; fill:none\" points=\"1668.9,1486.45 1668.9,47.2441 \"/>\n",
       "<polyline clip-path=\"url(#clip542)\" style=\"stroke:#000000; stroke-linecap:round; stroke-linejoin:round; stroke-width:2; stroke-opacity:0.1; fill:none\" points=\"2083.36,1486.45 2083.36,47.2441 \"/>\n",
       "<polyline clip-path=\"url(#clip540)\" style=\"stroke:#000000; stroke-linecap:round; stroke-linejoin:round; stroke-width:4; stroke-opacity:1; fill:none\" points=\"156.112,1486.45 2352.76,1486.45 \"/>\n",
       "<polyline clip-path=\"url(#clip540)\" style=\"stroke:#000000; stroke-linecap:round; stroke-linejoin:round; stroke-width:4; stroke-opacity:1; fill:none\" points=\"425.512,1486.45 425.512,1467.55 \"/>\n",
       "<polyline clip-path=\"url(#clip540)\" style=\"stroke:#000000; stroke-linecap:round; stroke-linejoin:round; stroke-width:4; stroke-opacity:1; fill:none\" points=\"839.973,1486.45 839.973,1467.55 \"/>\n",
       "<polyline clip-path=\"url(#clip540)\" style=\"stroke:#000000; stroke-linecap:round; stroke-linejoin:round; stroke-width:4; stroke-opacity:1; fill:none\" points=\"1254.43,1486.45 1254.43,1467.55 \"/>\n",
       "<polyline clip-path=\"url(#clip540)\" style=\"stroke:#000000; stroke-linecap:round; stroke-linejoin:round; stroke-width:4; stroke-opacity:1; fill:none\" points=\"1668.9,1486.45 1668.9,1467.55 \"/>\n",
       "<polyline clip-path=\"url(#clip540)\" style=\"stroke:#000000; stroke-linecap:round; stroke-linejoin:round; stroke-width:4; stroke-opacity:1; fill:none\" points=\"2083.36,1486.45 2083.36,1467.55 \"/>\n",
       "<path clip-path=\"url(#clip540)\" d=\"M394.412 1532.02 L424.088 1532.02 L424.088 1535.95 L394.412 1535.95 L394.412 1532.02 Z\" fill=\"#000000\" fill-rule=\"nonzero\" fill-opacity=\"1\" /><path clip-path=\"url(#clip540)\" d=\"M447.028 1518.36 L435.222 1536.81 L447.028 1536.81 L447.028 1518.36 M445.801 1514.29 L451.681 1514.29 L451.681 1536.81 L456.611 1536.81 L456.611 1540.7 L451.681 1540.7 L451.681 1548.85 L447.028 1548.85 L447.028 1540.7 L431.426 1540.7 L431.426 1536.19 L445.801 1514.29 Z\" fill=\"#000000\" fill-rule=\"nonzero\" fill-opacity=\"1\" /><path clip-path=\"url(#clip540)\" d=\"M809.915 1532.02 L839.591 1532.02 L839.591 1535.95 L809.915 1535.95 L809.915 1532.02 Z\" fill=\"#000000\" fill-rule=\"nonzero\" fill-opacity=\"1\" /><path clip-path=\"url(#clip540)\" d=\"M853.711 1544.91 L870.031 1544.91 L870.031 1548.85 L848.086 1548.85 L848.086 1544.91 Q850.748 1542.16 855.332 1537.53 Q859.938 1532.88 861.119 1531.53 Q863.364 1529.01 864.244 1527.27 Q865.146 1525.51 865.146 1523.82 Q865.146 1521.07 863.202 1519.33 Q861.281 1517.6 858.179 1517.6 Q855.98 1517.6 853.526 1518.36 Q851.096 1519.13 848.318 1520.68 L848.318 1515.95 Q851.142 1514.82 853.596 1514.24 Q856.049 1513.66 858.086 1513.66 Q863.457 1513.66 866.651 1516.35 Q869.845 1519.03 869.845 1523.52 Q869.845 1525.65 869.035 1527.57 Q868.248 1529.47 866.142 1532.07 Q865.563 1532.74 862.461 1535.95 Q859.359 1539.15 853.711 1544.91 Z\" fill=\"#000000\" fill-rule=\"nonzero\" fill-opacity=\"1\" /><path clip-path=\"url(#clip540)\" d=\"M1254.43 1517.37 Q1250.82 1517.37 1248.99 1520.93 Q1247.19 1524.47 1247.19 1531.6 Q1247.19 1538.71 1248.99 1542.27 Q1250.82 1545.82 1254.43 1545.82 Q1258.07 1545.82 1259.87 1542.27 Q1261.7 1538.71 1261.7 1531.6 Q1261.7 1524.47 1259.87 1520.93 Q1258.07 1517.37 1254.43 1517.37 M1254.43 1513.66 Q1260.24 1513.66 1263.3 1518.27 Q1266.38 1522.85 1266.38 1531.6 Q1266.38 1540.33 1263.3 1544.94 Q1260.24 1549.52 1254.43 1549.52 Q1248.62 1549.52 1245.55 1544.94 Q1242.49 1540.33 1242.49 1531.6 Q1242.49 1522.85 1245.55 1518.27 Q1248.62 1513.66 1254.43 1513.66 Z\" fill=\"#000000\" fill-rule=\"nonzero\" fill-opacity=\"1\" /><path clip-path=\"url(#clip540)\" d=\"M1663.55 1544.91 L1679.87 1544.91 L1679.87 1548.85 L1657.92 1548.85 L1657.92 1544.91 Q1660.58 1542.16 1665.17 1537.53 Q1669.77 1532.88 1670.96 1531.53 Q1673.2 1529.01 1674.08 1527.27 Q1674.98 1525.51 1674.98 1523.82 Q1674.98 1521.07 1673.04 1519.33 Q1671.12 1517.6 1668.02 1517.6 Q1665.82 1517.6 1663.36 1518.36 Q1660.93 1519.13 1658.15 1520.68 L1658.15 1515.95 Q1660.98 1514.82 1663.43 1514.24 Q1665.89 1513.66 1667.92 1513.66 Q1673.29 1513.66 1676.49 1516.35 Q1679.68 1519.03 1679.68 1523.52 Q1679.68 1525.65 1678.87 1527.57 Q1678.08 1529.47 1675.98 1532.07 Q1675.4 1532.74 1672.3 1535.95 Q1669.2 1539.15 1663.55 1544.91 Z\" fill=\"#000000\" fill-rule=\"nonzero\" fill-opacity=\"1\" /><path clip-path=\"url(#clip540)\" d=\"M2086.37 1518.36 L2074.56 1536.81 L2086.37 1536.81 L2086.37 1518.36 M2085.14 1514.29 L2091.02 1514.29 L2091.02 1536.81 L2095.95 1536.81 L2095.95 1540.7 L2091.02 1540.7 L2091.02 1548.85 L2086.37 1548.85 L2086.37 1540.7 L2070.76 1540.7 L2070.76 1536.19 L2085.14 1514.29 Z\" fill=\"#000000\" fill-rule=\"nonzero\" fill-opacity=\"1\" /><polyline clip-path=\"url(#clip542)\" style=\"stroke:#000000; stroke-linecap:round; stroke-linejoin:round; stroke-width:2; stroke-opacity:0.1; fill:none\" points=\"156.112,1174.17 2352.76,1174.17 \"/>\n",
       "<polyline clip-path=\"url(#clip542)\" style=\"stroke:#000000; stroke-linecap:round; stroke-linejoin:round; stroke-width:2; stroke-opacity:0.1; fill:none\" points=\"156.112,834.733 2352.76,834.733 \"/>\n",
       "<polyline clip-path=\"url(#clip542)\" style=\"stroke:#000000; stroke-linecap:round; stroke-linejoin:round; stroke-width:2; stroke-opacity:0.1; fill:none\" points=\"156.112,495.298 2352.76,495.298 \"/>\n",
       "<polyline clip-path=\"url(#clip542)\" style=\"stroke:#000000; stroke-linecap:round; stroke-linejoin:round; stroke-width:2; stroke-opacity:0.1; fill:none\" points=\"156.112,155.863 2352.76,155.863 \"/>\n",
       "<polyline clip-path=\"url(#clip540)\" style=\"stroke:#000000; stroke-linecap:round; stroke-linejoin:round; stroke-width:4; stroke-opacity:1; fill:none\" points=\"156.112,1486.45 156.112,47.2441 \"/>\n",
       "<polyline clip-path=\"url(#clip540)\" style=\"stroke:#000000; stroke-linecap:round; stroke-linejoin:round; stroke-width:4; stroke-opacity:1; fill:none\" points=\"156.112,1174.17 175.01,1174.17 \"/>\n",
       "<polyline clip-path=\"url(#clip540)\" style=\"stroke:#000000; stroke-linecap:round; stroke-linejoin:round; stroke-width:4; stroke-opacity:1; fill:none\" points=\"156.112,834.733 175.01,834.733 \"/>\n",
       "<polyline clip-path=\"url(#clip540)\" style=\"stroke:#000000; stroke-linecap:round; stroke-linejoin:round; stroke-width:4; stroke-opacity:1; fill:none\" points=\"156.112,495.298 175.01,495.298 \"/>\n",
       "<polyline clip-path=\"url(#clip540)\" style=\"stroke:#000000; stroke-linecap:round; stroke-linejoin:round; stroke-width:4; stroke-opacity:1; fill:none\" points=\"156.112,155.863 175.01,155.863 \"/>\n",
       "<path clip-path=\"url(#clip540)\" d=\"M62.9365 1159.97 Q59.3254 1159.97 57.4967 1163.53 Q55.6912 1167.07 55.6912 1174.2 Q55.6912 1181.31 57.4967 1184.87 Q59.3254 1188.42 62.9365 1188.42 Q66.5707 1188.42 68.3763 1184.87 Q70.205 1181.31 70.205 1174.2 Q70.205 1167.07 68.3763 1163.53 Q66.5707 1159.97 62.9365 1159.97 M62.9365 1156.26 Q68.7467 1156.26 71.8022 1160.87 Q74.8809 1165.45 74.8809 1174.2 Q74.8809 1182.93 71.8022 1187.54 Q68.7467 1192.12 62.9365 1192.12 Q57.1264 1192.12 54.0477 1187.54 Q50.9921 1182.93 50.9921 1174.2 Q50.9921 1165.45 54.0477 1160.87 Q57.1264 1156.26 62.9365 1156.26 Z\" fill=\"#000000\" fill-rule=\"nonzero\" fill-opacity=\"1\" /><path clip-path=\"url(#clip540)\" d=\"M83.0984 1185.57 L87.9827 1185.57 L87.9827 1191.45 L83.0984 1191.45 L83.0984 1185.57 Z\" fill=\"#000000\" fill-rule=\"nonzero\" fill-opacity=\"1\" /><path clip-path=\"url(#clip540)\" d=\"M108.168 1159.97 Q104.557 1159.97 102.728 1163.53 Q100.922 1167.07 100.922 1174.2 Q100.922 1181.31 102.728 1184.87 Q104.557 1188.42 108.168 1188.42 Q111.802 1188.42 113.608 1184.87 Q115.436 1181.31 115.436 1174.2 Q115.436 1167.07 113.608 1163.53 Q111.802 1159.97 108.168 1159.97 M108.168 1156.26 Q113.978 1156.26 117.033 1160.87 Q120.112 1165.45 120.112 1174.2 Q120.112 1182.93 117.033 1187.54 Q113.978 1192.12 108.168 1192.12 Q102.358 1192.12 99.2789 1187.54 Q96.2234 1182.93 96.2234 1174.2 Q96.2234 1165.45 99.2789 1160.87 Q102.358 1156.26 108.168 1156.26 Z\" fill=\"#000000\" fill-rule=\"nonzero\" fill-opacity=\"1\" /><path clip-path=\"url(#clip540)\" d=\"M57.9597 848.078 L74.279 848.078 L74.279 852.013 L52.3347 852.013 L52.3347 848.078 Q54.9967 845.323 59.58 840.694 Q64.1865 836.041 65.367 834.698 Q67.6124 832.175 68.492 830.439 Q69.3948 828.68 69.3948 826.99 Q69.3948 824.235 67.4504 822.499 Q65.5291 820.763 62.4272 820.763 Q60.2282 820.763 57.7745 821.527 Q55.344 822.291 52.5662 823.842 L52.5662 819.12 Q55.3903 817.985 57.8439 817.407 Q60.2976 816.828 62.3347 816.828 Q67.705 816.828 70.8994 819.513 Q74.0939 822.198 74.0939 826.689 Q74.0939 828.819 73.2837 830.74 Q72.4966 832.638 70.3902 835.231 Q69.8115 835.902 66.7096 839.12 Q63.6078 842.314 57.9597 848.078 Z\" fill=\"#000000\" fill-rule=\"nonzero\" fill-opacity=\"1\" /><path clip-path=\"url(#clip540)\" d=\"M84.0938 846.133 L88.978 846.133 L88.978 852.013 L84.0938 852.013 L84.0938 846.133 Z\" fill=\"#000000\" fill-rule=\"nonzero\" fill-opacity=\"1\" /><path clip-path=\"url(#clip540)\" d=\"M99.2095 817.453 L117.566 817.453 L117.566 821.388 L103.492 821.388 L103.492 829.86 Q104.51 829.513 105.529 829.351 Q106.547 829.166 107.566 829.166 Q113.353 829.166 116.733 832.337 Q120.112 835.508 120.112 840.925 Q120.112 846.504 116.64 849.606 Q113.168 852.684 106.848 852.684 Q104.672 852.684 102.404 852.314 Q100.159 851.944 97.7511 851.203 L97.7511 846.504 Q99.8345 847.638 102.057 848.194 Q104.279 848.749 106.756 848.749 Q110.76 848.749 113.098 846.643 Q115.436 844.536 115.436 840.925 Q115.436 837.314 113.098 835.207 Q110.76 833.101 106.756 833.101 Q104.881 833.101 103.006 833.518 Q101.154 833.934 99.2095 834.814 L99.2095 817.453 Z\" fill=\"#000000\" fill-rule=\"nonzero\" fill-opacity=\"1\" /><path clip-path=\"url(#clip540)\" d=\"M52.9829 478.018 L71.3392 478.018 L71.3392 481.953 L57.2652 481.953 L57.2652 490.425 Q58.2838 490.078 59.3023 489.916 Q60.3208 489.731 61.3393 489.731 Q67.1263 489.731 70.5059 492.902 Q73.8855 496.074 73.8855 501.49 Q73.8855 507.069 70.4133 510.171 Q66.9411 513.249 60.6217 513.249 Q58.4458 513.249 56.1773 512.879 Q53.9319 512.509 51.5245 511.768 L51.5245 507.069 Q53.6079 508.203 55.8301 508.759 Q58.0523 509.314 60.5291 509.314 Q64.5337 509.314 66.8717 507.208 Q69.2096 505.101 69.2096 501.49 Q69.2096 497.879 66.8717 495.773 Q64.5337 493.666 60.5291 493.666 Q58.6541 493.666 56.7791 494.083 Q54.9273 494.499 52.9829 495.379 L52.9829 478.018 Z\" fill=\"#000000\" fill-rule=\"nonzero\" fill-opacity=\"1\" /><path clip-path=\"url(#clip540)\" d=\"M83.0984 506.699 L87.9827 506.699 L87.9827 512.578 L83.0984 512.578 L83.0984 506.699 Z\" fill=\"#000000\" fill-rule=\"nonzero\" fill-opacity=\"1\" /><path clip-path=\"url(#clip540)\" d=\"M108.168 481.097 Q104.557 481.097 102.728 484.662 Q100.922 488.203 100.922 495.333 Q100.922 502.439 102.728 506.004 Q104.557 509.546 108.168 509.546 Q111.802 509.546 113.608 506.004 Q115.436 502.439 115.436 495.333 Q115.436 488.203 113.608 484.662 Q111.802 481.097 108.168 481.097 M108.168 477.393 Q113.978 477.393 117.033 482 Q120.112 486.583 120.112 495.333 Q120.112 504.06 117.033 508.666 Q113.978 513.249 108.168 513.249 Q102.358 513.249 99.2789 508.666 Q96.2234 504.06 96.2234 495.333 Q96.2234 486.583 99.2789 482 Q102.358 477.393 108.168 477.393 Z\" fill=\"#000000\" fill-rule=\"nonzero\" fill-opacity=\"1\" /><path clip-path=\"url(#clip540)\" d=\"M52.7514 138.583 L74.9735 138.583 L74.9735 140.574 L62.4272 173.143 L57.543 173.143 L69.3485 142.518 L52.7514 142.518 L52.7514 138.583 Z\" fill=\"#000000\" fill-rule=\"nonzero\" fill-opacity=\"1\" /><path clip-path=\"url(#clip540)\" d=\"M84.0938 167.264 L88.978 167.264 L88.978 173.143 L84.0938 173.143 L84.0938 167.264 Z\" fill=\"#000000\" fill-rule=\"nonzero\" fill-opacity=\"1\" /><path clip-path=\"url(#clip540)\" d=\"M99.2095 138.583 L117.566 138.583 L117.566 142.518 L103.492 142.518 L103.492 150.991 Q104.51 150.643 105.529 150.481 Q106.547 150.296 107.566 150.296 Q113.353 150.296 116.733 153.467 Q120.112 156.639 120.112 162.055 Q120.112 167.634 116.64 170.736 Q113.168 173.815 106.848 173.815 Q104.672 173.815 102.404 173.444 Q100.159 173.074 97.7511 172.333 L97.7511 167.634 Q99.8345 168.768 102.057 169.324 Q104.279 169.879 106.756 169.879 Q110.76 169.879 113.098 167.773 Q115.436 165.666 115.436 162.055 Q115.436 158.444 113.098 156.338 Q110.76 154.231 106.756 154.231 Q104.881 154.231 103.006 154.648 Q101.154 155.065 99.2095 155.944 L99.2095 138.583 Z\" fill=\"#000000\" fill-rule=\"nonzero\" fill-opacity=\"1\" /><polyline clip-path=\"url(#clip542)\" style=\"stroke:#009af9; stroke-linecap:round; stroke-linejoin:round; stroke-width:4; stroke-opacity:1; fill:none\" points=\"218.281,1445.72 231.773,1436.88 356.525,1355.14 431.495,1306.02 494.882,1264.49 563.737,1219.38 627.216,1177.79 695.272,1133.2 774.122,1081.54 844.194,1035.63 905.641,995.37 972.634,951.476 1040.03,907.322 1114.54,858.505 1185.43,812.056 1259.14,763.759 1321.2,723.104 1396.95,673.469 1466.35,628 1530.45,586.006 1595.38,543.467 1668.14,495.793 1734.08,452.593 1809.57,403.131 1879.47,357.334 1948.38,312.184 2015.29,268.347 2083.88,223.408 2159.03,174.172 2268.19,102.649 2290.59,87.9763 \"/>\n",
       "<path clip-path=\"url(#clip540)\" d=\"M229.334 198.898 L501.428 198.898 L501.428 95.2176 L229.334 95.2176  Z\" fill=\"#ffffff\" fill-rule=\"evenodd\" fill-opacity=\"1\"/>\n",
       "<polyline clip-path=\"url(#clip540)\" style=\"stroke:#000000; stroke-linecap:round; stroke-linejoin:round; stroke-width:4; stroke-opacity:1; fill:none\" points=\"229.334,198.898 501.428,198.898 501.428,95.2176 229.334,95.2176 229.334,198.898 \"/>\n",
       "<polyline clip-path=\"url(#clip540)\" style=\"stroke:#009af9; stroke-linecap:round; stroke-linejoin:round; stroke-width:4; stroke-opacity:1; fill:none\" points=\"253.741,147.058 400.184,147.058 \"/>\n",
       "<path clip-path=\"url(#clip540)\" d=\"M438.433 166.745 Q436.628 171.375 434.915 172.787 Q433.202 174.199 430.332 174.199 L426.929 174.199 L426.929 170.634 L429.429 170.634 Q431.188 170.634 432.16 169.8 Q433.132 168.967 434.313 165.865 L435.077 163.921 L424.591 138.412 L429.105 138.412 L437.206 158.689 L445.308 138.412 L449.822 138.412 L438.433 166.745 Z\" fill=\"#000000\" fill-rule=\"nonzero\" fill-opacity=\"1\" /><path clip-path=\"url(#clip540)\" d=\"M457.114 160.402 L464.753 160.402 L464.753 134.037 L456.442 135.703 L456.442 131.444 L464.706 129.778 L469.382 129.778 L469.382 160.402 L477.021 160.402 L477.021 164.338 L457.114 164.338 L457.114 160.402 Z\" fill=\"#000000\" fill-rule=\"nonzero\" fill-opacity=\"1\" /></svg>\n"
      ],
      "text/html": [
       "<?xml version=\"1.0\" encoding=\"utf-8\"?>\n",
       "<svg xmlns=\"http://www.w3.org/2000/svg\" xmlns:xlink=\"http://www.w3.org/1999/xlink\" width=\"600\" height=\"400\" viewBox=\"0 0 2400 1600\">\n",
       "<defs>\n",
       "  <clipPath id=\"clip590\">\n",
       "    <rect x=\"0\" y=\"0\" width=\"2400\" height=\"1600\"/>\n",
       "  </clipPath>\n",
       "</defs>\n",
       "<path clip-path=\"url(#clip590)\" d=\"M0 1600 L2400 1600 L2400 0 L0 0  Z\" fill=\"#ffffff\" fill-rule=\"evenodd\" fill-opacity=\"1\"/>\n",
       "<defs>\n",
       "  <clipPath id=\"clip591\">\n",
       "    <rect x=\"480\" y=\"0\" width=\"1681\" height=\"1600\"/>\n",
       "  </clipPath>\n",
       "</defs>\n",
       "<path clip-path=\"url(#clip590)\" d=\"M156.112 1486.45 L2352.76 1486.45 L2352.76 47.2441 L156.112 47.2441  Z\" fill=\"#ffffff\" fill-rule=\"evenodd\" fill-opacity=\"1\"/>\n",
       "<defs>\n",
       "  <clipPath id=\"clip592\">\n",
       "    <rect x=\"156\" y=\"47\" width=\"2198\" height=\"1440\"/>\n",
       "  </clipPath>\n",
       "</defs>\n",
       "<polyline clip-path=\"url(#clip592)\" style=\"stroke:#000000; stroke-linecap:round; stroke-linejoin:round; stroke-width:2; stroke-opacity:0.1; fill:none\" points=\"425.512,1486.45 425.512,47.2441 \"/>\n",
       "<polyline clip-path=\"url(#clip592)\" style=\"stroke:#000000; stroke-linecap:round; stroke-linejoin:round; stroke-width:2; stroke-opacity:0.1; fill:none\" points=\"839.973,1486.45 839.973,47.2441 \"/>\n",
       "<polyline clip-path=\"url(#clip592)\" style=\"stroke:#000000; stroke-linecap:round; stroke-linejoin:round; stroke-width:2; stroke-opacity:0.1; fill:none\" points=\"1254.43,1486.45 1254.43,47.2441 \"/>\n",
       "<polyline clip-path=\"url(#clip592)\" style=\"stroke:#000000; stroke-linecap:round; stroke-linejoin:round; stroke-width:2; stroke-opacity:0.1; fill:none\" points=\"1668.9,1486.45 1668.9,47.2441 \"/>\n",
       "<polyline clip-path=\"url(#clip592)\" style=\"stroke:#000000; stroke-linecap:round; stroke-linejoin:round; stroke-width:2; stroke-opacity:0.1; fill:none\" points=\"2083.36,1486.45 2083.36,47.2441 \"/>\n",
       "<polyline clip-path=\"url(#clip590)\" style=\"stroke:#000000; stroke-linecap:round; stroke-linejoin:round; stroke-width:4; stroke-opacity:1; fill:none\" points=\"156.112,1486.45 2352.76,1486.45 \"/>\n",
       "<polyline clip-path=\"url(#clip590)\" style=\"stroke:#000000; stroke-linecap:round; stroke-linejoin:round; stroke-width:4; stroke-opacity:1; fill:none\" points=\"425.512,1486.45 425.512,1467.55 \"/>\n",
       "<polyline clip-path=\"url(#clip590)\" style=\"stroke:#000000; stroke-linecap:round; stroke-linejoin:round; stroke-width:4; stroke-opacity:1; fill:none\" points=\"839.973,1486.45 839.973,1467.55 \"/>\n",
       "<polyline clip-path=\"url(#clip590)\" style=\"stroke:#000000; stroke-linecap:round; stroke-linejoin:round; stroke-width:4; stroke-opacity:1; fill:none\" points=\"1254.43,1486.45 1254.43,1467.55 \"/>\n",
       "<polyline clip-path=\"url(#clip590)\" style=\"stroke:#000000; stroke-linecap:round; stroke-linejoin:round; stroke-width:4; stroke-opacity:1; fill:none\" points=\"1668.9,1486.45 1668.9,1467.55 \"/>\n",
       "<polyline clip-path=\"url(#clip590)\" style=\"stroke:#000000; stroke-linecap:round; stroke-linejoin:round; stroke-width:4; stroke-opacity:1; fill:none\" points=\"2083.36,1486.45 2083.36,1467.55 \"/>\n",
       "<path clip-path=\"url(#clip590)\" d=\"M394.412 1532.02 L424.088 1532.02 L424.088 1535.95 L394.412 1535.95 L394.412 1532.02 Z\" fill=\"#000000\" fill-rule=\"nonzero\" fill-opacity=\"1\" /><path clip-path=\"url(#clip590)\" d=\"M447.028 1518.36 L435.222 1536.81 L447.028 1536.81 L447.028 1518.36 M445.801 1514.29 L451.681 1514.29 L451.681 1536.81 L456.611 1536.81 L456.611 1540.7 L451.681 1540.7 L451.681 1548.85 L447.028 1548.85 L447.028 1540.7 L431.426 1540.7 L431.426 1536.19 L445.801 1514.29 Z\" fill=\"#000000\" fill-rule=\"nonzero\" fill-opacity=\"1\" /><path clip-path=\"url(#clip590)\" d=\"M809.915 1532.02 L839.591 1532.02 L839.591 1535.95 L809.915 1535.95 L809.915 1532.02 Z\" fill=\"#000000\" fill-rule=\"nonzero\" fill-opacity=\"1\" /><path clip-path=\"url(#clip590)\" d=\"M853.711 1544.91 L870.031 1544.91 L870.031 1548.85 L848.086 1548.85 L848.086 1544.91 Q850.748 1542.16 855.332 1537.53 Q859.938 1532.88 861.119 1531.53 Q863.364 1529.01 864.244 1527.27 Q865.146 1525.51 865.146 1523.82 Q865.146 1521.07 863.202 1519.33 Q861.281 1517.6 858.179 1517.6 Q855.98 1517.6 853.526 1518.36 Q851.096 1519.13 848.318 1520.68 L848.318 1515.95 Q851.142 1514.82 853.596 1514.24 Q856.049 1513.66 858.086 1513.66 Q863.457 1513.66 866.651 1516.35 Q869.845 1519.03 869.845 1523.52 Q869.845 1525.65 869.035 1527.57 Q868.248 1529.47 866.142 1532.07 Q865.563 1532.74 862.461 1535.95 Q859.359 1539.15 853.711 1544.91 Z\" fill=\"#000000\" fill-rule=\"nonzero\" fill-opacity=\"1\" /><path clip-path=\"url(#clip590)\" d=\"M1254.43 1517.37 Q1250.82 1517.37 1248.99 1520.93 Q1247.19 1524.47 1247.19 1531.6 Q1247.19 1538.71 1248.99 1542.27 Q1250.82 1545.82 1254.43 1545.82 Q1258.07 1545.82 1259.87 1542.27 Q1261.7 1538.71 1261.7 1531.6 Q1261.7 1524.47 1259.87 1520.93 Q1258.07 1517.37 1254.43 1517.37 M1254.43 1513.66 Q1260.24 1513.66 1263.3 1518.27 Q1266.38 1522.85 1266.38 1531.6 Q1266.38 1540.33 1263.3 1544.94 Q1260.24 1549.52 1254.43 1549.52 Q1248.62 1549.52 1245.55 1544.94 Q1242.49 1540.33 1242.49 1531.6 Q1242.49 1522.85 1245.55 1518.27 Q1248.62 1513.66 1254.43 1513.66 Z\" fill=\"#000000\" fill-rule=\"nonzero\" fill-opacity=\"1\" /><path clip-path=\"url(#clip590)\" d=\"M1663.55 1544.91 L1679.87 1544.91 L1679.87 1548.85 L1657.92 1548.85 L1657.92 1544.91 Q1660.58 1542.16 1665.17 1537.53 Q1669.77 1532.88 1670.96 1531.53 Q1673.2 1529.01 1674.08 1527.27 Q1674.98 1525.51 1674.98 1523.82 Q1674.98 1521.07 1673.04 1519.33 Q1671.12 1517.6 1668.02 1517.6 Q1665.82 1517.6 1663.36 1518.36 Q1660.93 1519.13 1658.15 1520.68 L1658.15 1515.95 Q1660.98 1514.82 1663.43 1514.24 Q1665.89 1513.66 1667.92 1513.66 Q1673.29 1513.66 1676.49 1516.35 Q1679.68 1519.03 1679.68 1523.52 Q1679.68 1525.65 1678.87 1527.57 Q1678.08 1529.47 1675.98 1532.07 Q1675.4 1532.74 1672.3 1535.95 Q1669.2 1539.15 1663.55 1544.91 Z\" fill=\"#000000\" fill-rule=\"nonzero\" fill-opacity=\"1\" /><path clip-path=\"url(#clip590)\" d=\"M2086.37 1518.36 L2074.56 1536.81 L2086.37 1536.81 L2086.37 1518.36 M2085.14 1514.29 L2091.02 1514.29 L2091.02 1536.81 L2095.95 1536.81 L2095.95 1540.7 L2091.02 1540.7 L2091.02 1548.85 L2086.37 1548.85 L2086.37 1540.7 L2070.76 1540.7 L2070.76 1536.19 L2085.14 1514.29 Z\" fill=\"#000000\" fill-rule=\"nonzero\" fill-opacity=\"1\" /><polyline clip-path=\"url(#clip592)\" style=\"stroke:#000000; stroke-linecap:round; stroke-linejoin:round; stroke-width:2; stroke-opacity:0.1; fill:none\" points=\"156.112,1174.17 2352.76,1174.17 \"/>\n",
       "<polyline clip-path=\"url(#clip592)\" style=\"stroke:#000000; stroke-linecap:round; stroke-linejoin:round; stroke-width:2; stroke-opacity:0.1; fill:none\" points=\"156.112,834.733 2352.76,834.733 \"/>\n",
       "<polyline clip-path=\"url(#clip592)\" style=\"stroke:#000000; stroke-linecap:round; stroke-linejoin:round; stroke-width:2; stroke-opacity:0.1; fill:none\" points=\"156.112,495.298 2352.76,495.298 \"/>\n",
       "<polyline clip-path=\"url(#clip592)\" style=\"stroke:#000000; stroke-linecap:round; stroke-linejoin:round; stroke-width:2; stroke-opacity:0.1; fill:none\" points=\"156.112,155.863 2352.76,155.863 \"/>\n",
       "<polyline clip-path=\"url(#clip590)\" style=\"stroke:#000000; stroke-linecap:round; stroke-linejoin:round; stroke-width:4; stroke-opacity:1; fill:none\" points=\"156.112,1486.45 156.112,47.2441 \"/>\n",
       "<polyline clip-path=\"url(#clip590)\" style=\"stroke:#000000; stroke-linecap:round; stroke-linejoin:round; stroke-width:4; stroke-opacity:1; fill:none\" points=\"156.112,1174.17 175.01,1174.17 \"/>\n",
       "<polyline clip-path=\"url(#clip590)\" style=\"stroke:#000000; stroke-linecap:round; stroke-linejoin:round; stroke-width:4; stroke-opacity:1; fill:none\" points=\"156.112,834.733 175.01,834.733 \"/>\n",
       "<polyline clip-path=\"url(#clip590)\" style=\"stroke:#000000; stroke-linecap:round; stroke-linejoin:round; stroke-width:4; stroke-opacity:1; fill:none\" points=\"156.112,495.298 175.01,495.298 \"/>\n",
       "<polyline clip-path=\"url(#clip590)\" style=\"stroke:#000000; stroke-linecap:round; stroke-linejoin:round; stroke-width:4; stroke-opacity:1; fill:none\" points=\"156.112,155.863 175.01,155.863 \"/>\n",
       "<path clip-path=\"url(#clip590)\" d=\"M62.9365 1159.97 Q59.3254 1159.97 57.4967 1163.53 Q55.6912 1167.07 55.6912 1174.2 Q55.6912 1181.31 57.4967 1184.87 Q59.3254 1188.42 62.9365 1188.42 Q66.5707 1188.42 68.3763 1184.87 Q70.205 1181.31 70.205 1174.2 Q70.205 1167.07 68.3763 1163.53 Q66.5707 1159.97 62.9365 1159.97 M62.9365 1156.26 Q68.7467 1156.26 71.8022 1160.87 Q74.8809 1165.45 74.8809 1174.2 Q74.8809 1182.93 71.8022 1187.54 Q68.7467 1192.12 62.9365 1192.12 Q57.1264 1192.12 54.0477 1187.54 Q50.9921 1182.93 50.9921 1174.2 Q50.9921 1165.45 54.0477 1160.87 Q57.1264 1156.26 62.9365 1156.26 Z\" fill=\"#000000\" fill-rule=\"nonzero\" fill-opacity=\"1\" /><path clip-path=\"url(#clip590)\" d=\"M83.0984 1185.57 L87.9827 1185.57 L87.9827 1191.45 L83.0984 1191.45 L83.0984 1185.57 Z\" fill=\"#000000\" fill-rule=\"nonzero\" fill-opacity=\"1\" /><path clip-path=\"url(#clip590)\" d=\"M108.168 1159.97 Q104.557 1159.97 102.728 1163.53 Q100.922 1167.07 100.922 1174.2 Q100.922 1181.31 102.728 1184.87 Q104.557 1188.42 108.168 1188.42 Q111.802 1188.42 113.608 1184.87 Q115.436 1181.31 115.436 1174.2 Q115.436 1167.07 113.608 1163.53 Q111.802 1159.97 108.168 1159.97 M108.168 1156.26 Q113.978 1156.26 117.033 1160.87 Q120.112 1165.45 120.112 1174.2 Q120.112 1182.93 117.033 1187.54 Q113.978 1192.12 108.168 1192.12 Q102.358 1192.12 99.2789 1187.54 Q96.2234 1182.93 96.2234 1174.2 Q96.2234 1165.45 99.2789 1160.87 Q102.358 1156.26 108.168 1156.26 Z\" fill=\"#000000\" fill-rule=\"nonzero\" fill-opacity=\"1\" /><path clip-path=\"url(#clip590)\" d=\"M57.9597 848.078 L74.279 848.078 L74.279 852.013 L52.3347 852.013 L52.3347 848.078 Q54.9967 845.323 59.58 840.694 Q64.1865 836.041 65.367 834.698 Q67.6124 832.175 68.492 830.439 Q69.3948 828.68 69.3948 826.99 Q69.3948 824.235 67.4504 822.499 Q65.5291 820.763 62.4272 820.763 Q60.2282 820.763 57.7745 821.527 Q55.344 822.291 52.5662 823.842 L52.5662 819.12 Q55.3903 817.985 57.8439 817.407 Q60.2976 816.828 62.3347 816.828 Q67.705 816.828 70.8994 819.513 Q74.0939 822.198 74.0939 826.689 Q74.0939 828.819 73.2837 830.74 Q72.4966 832.638 70.3902 835.231 Q69.8115 835.902 66.7096 839.12 Q63.6078 842.314 57.9597 848.078 Z\" fill=\"#000000\" fill-rule=\"nonzero\" fill-opacity=\"1\" /><path clip-path=\"url(#clip590)\" d=\"M84.0938 846.133 L88.978 846.133 L88.978 852.013 L84.0938 852.013 L84.0938 846.133 Z\" fill=\"#000000\" fill-rule=\"nonzero\" fill-opacity=\"1\" /><path clip-path=\"url(#clip590)\" d=\"M99.2095 817.453 L117.566 817.453 L117.566 821.388 L103.492 821.388 L103.492 829.86 Q104.51 829.513 105.529 829.351 Q106.547 829.166 107.566 829.166 Q113.353 829.166 116.733 832.337 Q120.112 835.508 120.112 840.925 Q120.112 846.504 116.64 849.606 Q113.168 852.684 106.848 852.684 Q104.672 852.684 102.404 852.314 Q100.159 851.944 97.7511 851.203 L97.7511 846.504 Q99.8345 847.638 102.057 848.194 Q104.279 848.749 106.756 848.749 Q110.76 848.749 113.098 846.643 Q115.436 844.536 115.436 840.925 Q115.436 837.314 113.098 835.207 Q110.76 833.101 106.756 833.101 Q104.881 833.101 103.006 833.518 Q101.154 833.934 99.2095 834.814 L99.2095 817.453 Z\" fill=\"#000000\" fill-rule=\"nonzero\" fill-opacity=\"1\" /><path clip-path=\"url(#clip590)\" d=\"M52.9829 478.018 L71.3392 478.018 L71.3392 481.953 L57.2652 481.953 L57.2652 490.425 Q58.2838 490.078 59.3023 489.916 Q60.3208 489.731 61.3393 489.731 Q67.1263 489.731 70.5059 492.902 Q73.8855 496.074 73.8855 501.49 Q73.8855 507.069 70.4133 510.171 Q66.9411 513.249 60.6217 513.249 Q58.4458 513.249 56.1773 512.879 Q53.9319 512.509 51.5245 511.768 L51.5245 507.069 Q53.6079 508.203 55.8301 508.759 Q58.0523 509.314 60.5291 509.314 Q64.5337 509.314 66.8717 507.208 Q69.2096 505.101 69.2096 501.49 Q69.2096 497.879 66.8717 495.773 Q64.5337 493.666 60.5291 493.666 Q58.6541 493.666 56.7791 494.083 Q54.9273 494.499 52.9829 495.379 L52.9829 478.018 Z\" fill=\"#000000\" fill-rule=\"nonzero\" fill-opacity=\"1\" /><path clip-path=\"url(#clip590)\" d=\"M83.0984 506.699 L87.9827 506.699 L87.9827 512.578 L83.0984 512.578 L83.0984 506.699 Z\" fill=\"#000000\" fill-rule=\"nonzero\" fill-opacity=\"1\" /><path clip-path=\"url(#clip590)\" d=\"M108.168 481.097 Q104.557 481.097 102.728 484.662 Q100.922 488.203 100.922 495.333 Q100.922 502.439 102.728 506.004 Q104.557 509.546 108.168 509.546 Q111.802 509.546 113.608 506.004 Q115.436 502.439 115.436 495.333 Q115.436 488.203 113.608 484.662 Q111.802 481.097 108.168 481.097 M108.168 477.393 Q113.978 477.393 117.033 482 Q120.112 486.583 120.112 495.333 Q120.112 504.06 117.033 508.666 Q113.978 513.249 108.168 513.249 Q102.358 513.249 99.2789 508.666 Q96.2234 504.06 96.2234 495.333 Q96.2234 486.583 99.2789 482 Q102.358 477.393 108.168 477.393 Z\" fill=\"#000000\" fill-rule=\"nonzero\" fill-opacity=\"1\" /><path clip-path=\"url(#clip590)\" d=\"M52.7514 138.583 L74.9735 138.583 L74.9735 140.574 L62.4272 173.143 L57.543 173.143 L69.3485 142.518 L52.7514 142.518 L52.7514 138.583 Z\" fill=\"#000000\" fill-rule=\"nonzero\" fill-opacity=\"1\" /><path clip-path=\"url(#clip590)\" d=\"M84.0938 167.264 L88.978 167.264 L88.978 173.143 L84.0938 173.143 L84.0938 167.264 Z\" fill=\"#000000\" fill-rule=\"nonzero\" fill-opacity=\"1\" /><path clip-path=\"url(#clip590)\" d=\"M99.2095 138.583 L117.566 138.583 L117.566 142.518 L103.492 142.518 L103.492 150.991 Q104.51 150.643 105.529 150.481 Q106.547 150.296 107.566 150.296 Q113.353 150.296 116.733 153.467 Q120.112 156.639 120.112 162.055 Q120.112 167.634 116.64 170.736 Q113.168 173.815 106.848 173.815 Q104.672 173.815 102.404 173.444 Q100.159 173.074 97.7511 172.333 L97.7511 167.634 Q99.8345 168.768 102.057 169.324 Q104.279 169.879 106.756 169.879 Q110.76 169.879 113.098 167.773 Q115.436 165.666 115.436 162.055 Q115.436 158.444 113.098 156.338 Q110.76 154.231 106.756 154.231 Q104.881 154.231 103.006 154.648 Q101.154 155.065 99.2095 155.944 L99.2095 138.583 Z\" fill=\"#000000\" fill-rule=\"nonzero\" fill-opacity=\"1\" /><polyline clip-path=\"url(#clip592)\" style=\"stroke:#009af9; stroke-linecap:round; stroke-linejoin:round; stroke-width:4; stroke-opacity:1; fill:none\" points=\"218.281,1445.72 231.773,1436.88 356.525,1355.14 431.495,1306.02 494.882,1264.49 563.737,1219.38 627.216,1177.79 695.272,1133.2 774.122,1081.54 844.194,1035.63 905.641,995.37 972.634,951.476 1040.03,907.322 1114.54,858.505 1185.43,812.056 1259.14,763.759 1321.2,723.104 1396.95,673.469 1466.35,628 1530.45,586.006 1595.38,543.467 1668.14,495.793 1734.08,452.593 1809.57,403.131 1879.47,357.334 1948.38,312.184 2015.29,268.347 2083.88,223.408 2159.03,174.172 2268.19,102.649 2290.59,87.9763 \"/>\n",
       "<path clip-path=\"url(#clip590)\" d=\"M229.334 198.898 L501.428 198.898 L501.428 95.2176 L229.334 95.2176  Z\" fill=\"#ffffff\" fill-rule=\"evenodd\" fill-opacity=\"1\"/>\n",
       "<polyline clip-path=\"url(#clip590)\" style=\"stroke:#000000; stroke-linecap:round; stroke-linejoin:round; stroke-width:4; stroke-opacity:1; fill:none\" points=\"229.334,198.898 501.428,198.898 501.428,95.2176 229.334,95.2176 229.334,198.898 \"/>\n",
       "<polyline clip-path=\"url(#clip590)\" style=\"stroke:#009af9; stroke-linecap:round; stroke-linejoin:round; stroke-width:4; stroke-opacity:1; fill:none\" points=\"253.741,147.058 400.184,147.058 \"/>\n",
       "<path clip-path=\"url(#clip590)\" d=\"M438.433 166.745 Q436.628 171.375 434.915 172.787 Q433.202 174.199 430.332 174.199 L426.929 174.199 L426.929 170.634 L429.429 170.634 Q431.188 170.634 432.16 169.8 Q433.132 168.967 434.313 165.865 L435.077 163.921 L424.591 138.412 L429.105 138.412 L437.206 158.689 L445.308 138.412 L449.822 138.412 L438.433 166.745 Z\" fill=\"#000000\" fill-rule=\"nonzero\" fill-opacity=\"1\" /><path clip-path=\"url(#clip590)\" d=\"M457.114 160.402 L464.753 160.402 L464.753 134.037 L456.442 135.703 L456.442 131.444 L464.706 129.778 L469.382 129.778 L469.382 160.402 L477.021 160.402 L477.021 164.338 L457.114 164.338 L457.114 160.402 Z\" fill=\"#000000\" fill-rule=\"nonzero\" fill-opacity=\"1\" /></svg>\n"
      ]
     },
     "metadata": {},
     "output_type": "display_data"
    }
   ],
   "source": [
    "f(x) = x + 3\n",
    "\n",
    "plot(f, -5, 5)"
   ]
  },
  {
   "cell_type": "code",
   "execution_count": null,
   "metadata": {},
   "outputs": [],
   "source": [
    "# Solve 2x - y = -1, 4x + y = 4\n",
    "# Re-arranging both eqs and keeping y on left\n",
    "\n",
    "y1(x) = 2x + 1\n",
    "y2(x) = 4 - 4x\n",
    "plot([y1,y2], -5, 5, xlabel = \"x\", ylabel = \"y\")"
   ]
  },
  {
   "cell_type": "code",
   "execution_count": 19,
   "metadata": {},
   "outputs": [
    {
     "data": {
      "text/plain": [
       "5-element Vector{Int64}:\n",
       " 0\n",
       " 2\n",
       " 4\n",
       " 6\n",
       " 8"
      ]
     },
     "metadata": {},
     "output_type": "display_data"
    }
   ],
   "source": [
    "rowVect = [1 2 3 4 5]\n",
    "# rowVect1 = collect(1:10)'\n",
    "prink = collect(0:2:8)"
   ]
  },
  {
   "cell_type": "code",
   "execution_count": 4,
   "metadata": {},
   "outputs": [
    {
     "data": {
      "text/plain": [
       "3×4 Matrix{Float64}:\n",
       " 1.0  1.0  1.0  1.0\n",
       " 1.0  1.0  1.0  1.0\n",
       " 1.0  1.0  1.0  1.0"
      ]
     },
     "metadata": {},
     "output_type": "display_data"
    }
   ],
   "source": [
    "# creating matrices\n",
    "onesMat = ones(3,4)"
   ]
  },
  {
   "cell_type": "code",
   "execution_count": 7,
   "metadata": {},
   "outputs": [],
   "source": [
    "@assert sum(onesMat) == 12"
   ]
  },
  {
   "cell_type": "code",
   "execution_count": null,
   "metadata": {},
   "outputs": [],
   "source": [
    "zeroMat = zeros(2,1)\n",
    "# zeroMat1 = 7*ones(2,2)"
   ]
  },
  {
   "cell_type": "code",
   "execution_count": null,
   "metadata": {},
   "outputs": [],
   "source": [
    "A = [1 5 0; 3 -1 7; -1 0 2]"
   ]
  },
  {
   "cell_type": "code",
   "execution_count": null,
   "metadata": {},
   "outputs": [],
   "source": [
    "b = [4; 2; -5]"
   ]
  },
  {
   "cell_type": "code",
   "execution_count": 13,
   "metadata": {},
   "outputs": [
    {
     "name": "stderr",
     "output_type": "stream",
     "text": [
      "\u001b[32m\u001b[1m    Updating\u001b[22m\u001b[39m registry at `C:\\Users\\spell\\.julia\\registries\\General.toml`\n"
     ]
    },
    {
     "name": "stderr",
     "output_type": "stream",
     "text": [
      "\u001b[32m\u001b[1m   Resolving\u001b[22m\u001b[39m package versions..."
     ]
    },
    {
     "name": "stderr",
     "output_type": "stream",
     "text": [
      "\n",
      "\u001b[32m\u001b[1m    Updating\u001b[22m\u001b[39m `C:\\Users\\spell\\.julia\\environments\\v1.9\\Project.toml`\n",
      "  \u001b[90m[37e2e46d] \u001b[39m\u001b[92m+ LinearAlgebra\u001b[39m\n",
      "\u001b[32m\u001b[1m  No Changes\u001b[22m\u001b[39m to `C:\\Users\\spell\\.julia\\environments\\v1.9\\Manifest.toml`"
     ]
    },
    {
     "name": "stderr",
     "output_type": "stream",
     "text": [
      "\n"
     ]
    }
   ],
   "source": [
    "using Pkg\n",
    "Pkg.add(\"LinearAlgebra\")\n",
    "using LinearAlgebra"
   ]
  },
  {
   "cell_type": "code",
   "execution_count": 14,
   "metadata": {},
   "outputs": [
    {
     "data": {
      "text/plain": [
       "-67.0"
      ]
     },
     "metadata": {},
     "output_type": "display_data"
    }
   ],
   "source": [
    "det(A)"
   ]
  },
  {
   "cell_type": "code",
   "execution_count": 15,
   "metadata": {},
   "outputs": [
    {
     "data": {
      "text/plain": [
       "5×5 Matrix{Int64}:\n",
       " 1   1  2   0   0\n",
       " 2  -1  1   0   0\n",
       " 1   0  4   0   0\n",
       " 0   0  2   1  -5\n",
       " 0  -4  0  12   0"
      ]
     },
     "metadata": {},
     "output_type": "display_data"
    }
   ],
   "source": [
    "B = [1 1 2 0 0; 2 -1 1 0 0; 1 0 4 0 0; 0 0 2 1 -5; 0 -4 0 12 0]"
   ]
  },
  {
   "cell_type": "code",
   "execution_count": 16,
   "metadata": {},
   "outputs": [
    {
     "data": {
      "text/plain": [
       "-540.0"
      ]
     },
     "metadata": {},
     "output_type": "display_data"
    }
   ],
   "source": [
    "det(B)"
   ]
  },
  {
   "cell_type": "code",
   "execution_count": 24,
   "metadata": {},
   "outputs": [
    {
     "data": {
      "text/plain": [
       "3×4 Matrix{Float64}:\n",
       " 0.579862  0.0149088  0.839622  0.946453\n",
       " 0.411294  0.520355   0.967143  0.574323\n",
       " 0.972136  0.639562   0.131026  0.67765"
      ]
     },
     "metadata": {},
     "output_type": "display_data"
    }
   ],
   "source": [
    "row_vec = [1 3 5 7 9]\n",
    "almost_zero_vec = [0; 0; -pi; 0; 0; 0; 0]\n",
    "using Random\n",
    "Random.seed!(1234)\n",
    "rand_mat = rand(3, 4)"
   ]
  },
  {
   "cell_type": "code",
   "execution_count": 27,
   "metadata": {},
   "outputs": [
    {
     "data": {
      "text/plain": [
       "3-element Vector{Float64}:\n",
       " 0.8396219340580711\n",
       " 0.967142768915383\n",
       " 0.13102565622085904"
      ]
     },
     "metadata": {},
     "output_type": "display_data"
    }
   ],
   "source": [
    "num = almost_zero_vec[3] # index into matrices using SQUARE BRACKETS\n",
    "num1 = rand_mat[2, 1] # 2nd row 1st column entry of rand_mat\n",
    "num2 = rand_mat[:, 3] # selects all rows and 3rd column"
   ]
  },
  {
   "cell_type": "code",
   "execution_count": 30,
   "metadata": {},
   "outputs": [
    {
     "data": {
      "text/plain": [
       "1×7 adjoint(::Vector{Float64}) with eltype Float64:\n",
       " 0.0  0.0  -3.14159  0.0  0.0  0.0  0.0"
      ]
     },
     "metadata": {},
     "output_type": "display_data"
    }
   ],
   "source": [
    "row_vec = rand_mat[1:1, :] # gives row matrix\n",
    "row_vec1 = rand_mat[1:1, 1:end] # same results as above\n",
    "col1 = [0; 0; -pi; 0; 0; 0; 0]'"
   ]
  },
  {
   "cell_type": "code",
   "execution_count": 36,
   "metadata": {},
   "outputs": [
    {
     "data": {
      "text/plain": [
       "1.5707963267948966"
      ]
     },
     "metadata": {},
     "output_type": "display_data"
    }
   ],
   "source": [
    "A1 = [1 5 0; 3 -1 7; -1 0 2]\n",
    "block_A1 = A1[1:2, 1:2] # takes out the block of elements from A1\n",
    "block1_A1 = A1[2:3, 2:3]\n",
    "num3 = block1_A1[2,2]\n",
    "res = pi/num3\n"
   ]
  },
  {
   "cell_type": "code",
   "execution_count": 39,
   "metadata": {},
   "outputs": [
    {
     "data": {
      "text/plain": [
       "13"
      ]
     },
     "metadata": {},
     "output_type": "display_data"
    }
   ],
   "source": [
    "A3 = [1 8 2; 0 3 7; 6 2 9]\n",
    "sums = A3[1, 1] + A3[2, 2] + A3[3, 3]"
   ]
  },
  {
   "cell_type": "code",
   "execution_count": null,
   "metadata": {},
   "outputs": [],
   "source": [
    "for i in 1:10 # i is the iterator or dummy variable\n",
    "    println(\"\")\n",
    "end"
   ]
  },
  {
   "cell_type": "code",
   "execution_count": 44,
   "metadata": {},
   "outputs": [
    {
     "name": "stdout",
     "output_type": "stream",
     "text": [
      "20\n",
      "18\n",
      "16\n",
      "14\n",
      "12\n",
      "10\n",
      "8\n",
      "6\n",
      "4\n",
      "2\n"
     ]
    }
   ],
   "source": [
    "for k = 20:-2:2 # step size can be negative\n",
    "    println(k)\n",
    "end"
   ]
  },
  {
   "cell_type": "code",
   "execution_count": 45,
   "metadata": {},
   "outputs": [
    {
     "data": {
      "text/plain": [
       "30×30 Matrix{Float64}:\n",
       " 0.579862   0.00543656  0.126386  …  0.571334   0.328323   0.673974\n",
       " 0.411294   0.698478    0.965243     0.124163   0.349247   0.245734\n",
       " 0.972136   0.349231    0.515818     0.587931   0.793972   0.316147\n",
       " 0.0149088  0.91097     0.488476     0.321161   0.0952038  0.585489\n",
       " 0.520355   0.973653    0.527837     0.531414   0.665992   0.852246\n",
       " 0.639562   0.76066     0.917137  …  0.59433    0.799811   0.580852\n",
       " 0.839622   0.488912    0.706951     0.290677   0.171014   0.183946\n",
       " 0.967143   0.362643    0.753203     0.855815   0.689584   0.202328\n",
       " 0.789764   0.708738    0.573645     0.555287   0.270649   0.488165\n",
       " 0.696041   0.656694    0.731872     0.861586   0.480495   0.988048\n",
       " ⋮                                ⋱                        \n",
       " 0.0779683  0.514119    0.381363     0.566666   0.606252   0.808455\n",
       " 0.966197   0.652465    0.42562      0.22972    0.706679   0.901708\n",
       " 0.666558   0.895855    0.661096     0.175631   0.104724   0.130924\n",
       " 0.333859   0.688344    0.195737     0.796953   0.578079   0.550256\n",
       " 0.802199   0.661561    0.811324  …  0.351131   0.889768   0.819181\n",
       " 0.156458   0.752155    0.594965     0.0457602  0.488776   0.131026\n",
       " 0.380799   0.869142    0.270995     0.807679   0.486645   0.946453\n",
       " 0.0687591  0.679021    0.566878     0.926269   0.209923   0.574323\n",
       " 0.861725   0.999183    0.607905     0.319058   0.928159   0.67765"
      ]
     },
     "metadata": {},
     "output_type": "display_data"
    }
   ],
   "source": [
    "using Random\n",
    "Random.seed!(1234)\n",
    "rand1 = rand(30,30)"
   ]
  },
  {
   "cell_type": "code",
   "execution_count": 48,
   "metadata": {},
   "outputs": [
    {
     "name": "stdout",
     "output_type": "stream",
     "text": [
      "15.828121297692357\n"
     ]
    }
   ],
   "source": [
    "sums = 0\n",
    "for k = 1:30\n",
    "    # sums = sums + rand1[k,k]\n",
    "    sums += rand1[k,k]\n",
    "end\n",
    "println(sums)"
   ]
  }
 ],
 "metadata": {
  "kernelspec": {
   "display_name": "Julia 1.9.2",
   "language": "julia",
   "name": "julia-1.9"
  },
  "language_info": {
   "file_extension": ".jl",
   "mimetype": "application/julia",
   "name": "julia",
   "version": "1.9.2"
  },
  "orig_nbformat": 4
 },
 "nbformat": 4,
 "nbformat_minor": 2
}
