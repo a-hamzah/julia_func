{
 "cells": [
  {
   "cell_type": "markdown",
   "metadata": {},
   "source": [
    "# basic julia codes\n",
    "# https://www.youtube.com/watch?v=iYdM9ojrsIE&list=PLdPQZLMHRjDJ5d_dE4FeOviv0gRe4UYsB&index=4&ab_channel=umrobotics"
   ]
  },
  {
   "cell_type": "code",
   "execution_count": null,
   "metadata": {},
   "outputs": [],
   "source": [
    "import Pkg\n",
    "Pkg.add(\"Plots\")"
   ]
  },
  {
   "cell_type": "code",
   "execution_count": null,
   "metadata": {},
   "outputs": [],
   "source": [
    "using Plots"
   ]
  },
  {
   "cell_type": "code",
   "execution_count": null,
   "metadata": {},
   "outputs": [],
   "source": [
    "f(x) = x + 3\n",
    "\n",
    "plot(f, -5, 5)"
   ]
  },
  {
   "cell_type": "code",
   "execution_count": null,
   "metadata": {},
   "outputs": [],
   "source": [
    "# Solve 2x - y = -1, 4x + y = 4\n",
    "# Re-arranging both eqs and keeping y on left\n",
    "\n",
    "y1(x) = 2x + 1\n",
    "y2(x) = 4 - 4x\n",
    "plot([y1,y2], -5, 5, xlabel = \"x\", ylabel = \"y\")"
   ]
  },
  {
   "cell_type": "code",
   "execution_count": null,
   "metadata": {},
   "outputs": [],
   "source": [
    "rowVect = [1 2 3 4 5]\n",
    "# rowVect1 = collect(1:10)'\n",
    "prink = collect(0:2:8)"
   ]
  },
  {
   "cell_type": "code",
   "execution_count": null,
   "metadata": {},
   "outputs": [],
   "source": [
    "# creating matrices\n",
    "onesMat = ones(3,4)"
   ]
  },
  {
   "cell_type": "code",
   "execution_count": null,
   "metadata": {},
   "outputs": [],
   "source": [
    "@assert sum(onesMat) == 12"
   ]
  },
  {
   "cell_type": "code",
   "execution_count": null,
   "metadata": {},
   "outputs": [],
   "source": [
    "zeroMat = zeros(2,1)\n",
    "# zeroMat1 = 7*ones(2,2)"
   ]
  },
  {
   "cell_type": "code",
   "execution_count": null,
   "metadata": {},
   "outputs": [],
   "source": [
    "A = [1 5 0; 3 -1 7; -1 0 2]"
   ]
  },
  {
   "cell_type": "code",
   "execution_count": null,
   "metadata": {},
   "outputs": [],
   "source": [
    "b = [4; 2; -5]"
   ]
  },
  {
   "cell_type": "code",
   "execution_count": null,
   "metadata": {},
   "outputs": [],
   "source": [
    "using Pkg\n",
    "Pkg.add(\"LinearAlgebra\")\n",
    "using LinearAlgebra"
   ]
  },
  {
   "cell_type": "code",
   "execution_count": null,
   "metadata": {},
   "outputs": [],
   "source": [
    "det(A)"
   ]
  },
  {
   "cell_type": "code",
   "execution_count": null,
   "metadata": {},
   "outputs": [],
   "source": [
    "B = [1 1 2 0 0; 2 -1 1 0 0; 1 0 4 0 0; 0 0 2 1 -5; 0 -4 0 12 0]"
   ]
  },
  {
   "cell_type": "code",
   "execution_count": null,
   "metadata": {},
   "outputs": [],
   "source": [
    "det(B)"
   ]
  },
  {
   "cell_type": "code",
   "execution_count": null,
   "metadata": {},
   "outputs": [],
   "source": [
    "row_vec = [1 3 5 7 9]\n",
    "almost_zero_vec = [0; 0; -pi; 0; 0; 0; 0]\n",
    "using Random\n",
    "Random.seed!(1234)\n",
    "rand_mat = rand(3, 4)"
   ]
  },
  {
   "cell_type": "code",
   "execution_count": null,
   "metadata": {},
   "outputs": [],
   "source": [
    "num = almost_zero_vec[3] # index into matrices using SQUARE BRACKETS\n",
    "num1 = rand_mat[2, 1] # 2nd row 1st column entry of rand_mat\n",
    "num2 = rand_mat[:, 3] # selects all rows and 3rd column"
   ]
  },
  {
   "cell_type": "code",
   "execution_count": null,
   "metadata": {},
   "outputs": [],
   "source": [
    "row_vec = rand_mat[1:1, :] # gives row matrix\n",
    "row_vec1 = rand_mat[1:1, 1:end] # same results as above\n",
    "col1 = [0; 0; -pi; 0; 0; 0; 0]'"
   ]
  },
  {
   "cell_type": "code",
   "execution_count": null,
   "metadata": {},
   "outputs": [],
   "source": [
    "A1 = [1 5 0; 3 -1 7; -1 0 2]\n",
    "block_A1 = A1[1:2, 1:2] # takes out the block of elements from A1\n",
    "block1_A1 = A1[2:3, 2:3]\n",
    "num3 = block1_A1[2,2]\n",
    "res = pi/num3\n"
   ]
  },
  {
   "cell_type": "code",
   "execution_count": 7,
   "metadata": {},
   "outputs": [
    {
     "data": {
      "text/plain": [
       "3×3 Matrix{Int64}:\n",
       " 1  8  2\n",
       " 0  3  7\n",
       " 6  2  9"
      ]
     },
     "metadata": {},
     "output_type": "display_data"
    }
   ],
   "source": [
    "A3 = [1 8 2; 0 3 7; 6 2 9]\n",
    "# sums = A3[1, 1] + A3[2, 2] + A3[3, 3]"
   ]
  },
  {
   "cell_type": "code",
   "execution_count": null,
   "metadata": {},
   "outputs": [],
   "source": [
    "for mynum in 1:10 # i is the iterator or dummy variable\n",
    "    println(\"Hi\")\n",
    "end"
   ]
  },
  {
   "cell_type": "code",
   "execution_count": null,
   "metadata": {},
   "outputs": [],
   "source": [
    "for k = 20:-2:2 # step size can be negative\n",
    "    println(k)\n",
    "end"
   ]
  },
  {
   "cell_type": "code",
   "execution_count": null,
   "metadata": {},
   "outputs": [],
   "source": [
    "using Random\n",
    "Random.seed!(1234)\n",
    "rand1 = rand(30,30)"
   ]
  },
  {
   "cell_type": "code",
   "execution_count": null,
   "metadata": {},
   "outputs": [],
   "source": [
    "sums = 0\n",
    "for k = 1:30\n",
    "    # sums = sums + rand1[k,k]\n",
    "    sums += rand1[k,k]\n",
    "end\n",
    "println(sums)"
   ]
  },
  {
   "cell_type": "code",
   "execution_count": 6,
   "metadata": {},
   "outputs": [
    {
     "name": "stdout",
     "output_type": "stream",
     "text": [
      "1\n",
      "0\n",
      "3\n",
      "6\n",
      "2\n",
      "9\n"
     ]
    }
   ],
   "source": [
    "# print all the numbers below and up of diagonals\n",
    "for i = 1:3\n",
    "    for j = 1:i\n",
    "        println(A3[i,j])\n",
    "    end\n",
    "end"
   ]
  },
  {
   "cell_type": "code",
   "execution_count": 14,
   "metadata": {},
   "outputs": [
    {
     "data": {
      "text/plain": [
       "10×10 Matrix{Float64}:\n",
       " 0.579862   0.566704  0.526344   0.00543656  …  0.829076  0.587688  0.850302\n",
       " 0.411294   0.536369  0.0779683  0.698478       0.892646  0.381363  0.124847\n",
       " 0.972136   0.711389  0.966197   0.349231       0.806471  0.42562   0.993609\n",
       " 0.0149088  0.103929  0.666558   0.91097        0.011625  0.661096  0.0686571\n",
       " 0.520355   0.806704  0.333859   0.973653       0.249676  0.195737  0.953362\n",
       " 0.639562   0.870539  0.802199   0.76066     …  0.139687  0.811324  0.484337\n",
       " 0.839622   0.962715  0.156458   0.488912       0.180998  0.594965  0.131026\n",
       " 0.967143   0.15118   0.380799   0.362643       0.813512  0.270995  0.946453\n",
       " 0.789764   0.715355  0.0687591  0.708738       0.994935  0.566878  0.574323\n",
       " 0.696041   0.939548  0.861725   0.656694       0.77916   0.607905  0.67765"
      ]
     },
     "metadata": {},
     "output_type": "display_data"
    }
   ],
   "source": [
    "using Random\n",
    "Random.seed!(1234)\n",
    "mat1 = rand(10,10)"
   ]
  },
  {
   "cell_type": "code",
   "execution_count": 16,
   "metadata": {},
   "outputs": [
    {
     "name": "stdout",
     "output_type": "stream",
     "text": [
      "6.84133867975218"
     ]
    },
    {
     "name": "stdout",
     "output_type": "stream",
     "text": [
      "\n"
     ]
    }
   ],
   "source": [
    "# sum of primary diagonal elements of matrix mat1\n",
    "# that means we have to add mat1[1,1] + mat1[2,2] + mat1[3,3]\n",
    "# using for loop\n",
    "sum1 = 0\n",
    "for row1 = 1:10\n",
    "    for col1 = row1\n",
    "        # println(A3[row1, col1])\n",
    "        sum1 += mat1[row1, col1]\n",
    "        \n",
    "    end\n",
    "end\n",
    "println(sum1)\n"
   ]
  },
  {
   "cell_type": "code",
   "execution_count": 20,
   "metadata": {},
   "outputs": [
    {
     "data": {
      "text/plain": [
       "3-element Vector{Float64}:\n",
       " -1.0696035242290747\n",
       "  2.028193832599119\n",
       " -1.1691629955947136"
      ]
     },
     "metadata": {},
     "output_type": "display_data"
    }
   ],
   "source": [
    "# solving system of linear equations\n",
    "A = [1 3 6; 0 6 1; 7 8 2]\n",
    "b = [-2; 11; 6.4]\n",
    "using LinearAlgebra\n",
    "x = inv(A)*b\n"
   ]
  },
  {
   "cell_type": "markdown",
   "metadata": {},
   "source": [
    "# the determinant of a square lower/upper triangular matrix is equal to the product of the elements on the diagonal.\n",
    "# the determinant of a matrix is product of its eigen values\n",
    "# eigen values of the lower triangular matrix are the diagonal entries\n",
    "# back substition for upper triangular matrix - forward substitution for lower triangular matrix"
   ]
  },
  {
   "cell_type": "code",
   "execution_count": 1,
   "metadata": {},
   "outputs": [
    {
     "data": {
      "text/plain": [
       "3-element Vector{Int64}:\n",
       "  3\n",
       " -1\n",
       "  3"
      ]
     },
     "metadata": {},
     "output_type": "display_data"
    }
   ],
   "source": [
    "using LinearAlgebra\n",
    "K1 = [3 0 0; 2 -1 0; 1 -2 3]\n",
    "diag(K1)\n",
    "det(K1)"
   ]
  },
  {
   "cell_type": "code",
   "execution_count": 3,
   "metadata": {},
   "outputs": [
    {
     "data": {
      "text/plain": [
       "1-element Vector{Int64}:\n",
       " -30"
      ]
     },
     "metadata": {},
     "output_type": "display_data"
    }
   ],
   "source": [
    "a_row = [2 -3 -1 11] # vector multiplication\n",
    "b_row = [3; 5; -1; -2]\n",
    "a_row * b_row"
   ]
  },
  {
   "cell_type": "code",
   "execution_count": null,
   "metadata": {},
   "outputs": [],
   "source": [
    "a1 = [1 2; 3 4]\n",
    "a2 = [5; 6]\n",
    "a1 * a2"
   ]
  },
  {
   "cell_type": "code",
   "execution_count": 13,
   "metadata": {},
   "outputs": [
    {
     "data": {
      "text/plain": [
       "3×3 Matrix{Float64}:\n",
       " 3.0   0.0  0.0\n",
       " 1.0  -2.0  3.0\n",
       " 2.0  -1.0  0.0"
      ]
     },
     "metadata": {},
     "output_type": "display_data"
    }
   ],
   "source": [
    "# permutation matrix helps re-arrange/swap rows of a matrix\n",
    "A0 = [3. 0 0; 1 -2 3; 2 -1 0] # original matrix\n",
    "#b0 = [6.; 2; -2] # original right hand side\n",
    "#P = [1 0 0; 0 0 1; 0 1 0] # permutation matrix"
   ]
  },
  {
   "cell_type": "code",
   "execution_count": null,
   "metadata": {},
   "outputs": [],
   "source": [
    "AL = P * A0 # using permutation matrix to swap rows\n",
    "bL = P * b0 # 2nd and 3rd row changed"
   ]
  },
  {
   "cell_type": "code",
   "execution_count": 16,
   "metadata": {},
   "outputs": [
    {
     "data": {
      "text/plain": [
       "5-element Vector{Int64}:\n",
       " 1\n",
       " 2\n",
       " 5\n",
       " 4\n",
       " 3"
      ]
     },
     "metadata": {},
     "output_type": "display_data"
    }
   ],
   "source": [
    "v = [1; 2; 3; 4; 5]\n",
    "P = [1 0 0 0 0; 0 1 0 0 0; 0 0 0 0 1; 0 0 0 1 0; 0 0 1 0 0]\n",
    "# permute v\n",
    "P * v"
   ]
  },
  {
   "cell_type": "code",
   "execution_count": 17,
   "metadata": {},
   "outputs": [
    {
     "data": {
      "text/plain": [
       "3×4 Matrix{Float64}:\n",
       " 0.414547  0.203437  0.320534  0.394593\n",
       " 1.1923    0.402149  0.846146  1.5541\n",
       " 1.60205   0.717673  1.2422    1.45352"
      ]
     },
     "metadata": {},
     "output_type": "display_data"
    }
   ],
   "source": [
    "matrix1 = rand(3,4)\n",
    "matrix2 = rand(4,4)\n",
    "pr = matrix1 * matrix2"
   ]
  }
 ],
 "metadata": {
  "kernelspec": {
   "display_name": "Julia 1.9.2",
   "language": "julia",
   "name": "julia-1.9"
  },
  "language_info": {
   "file_extension": ".jl",
   "mimetype": "application/julia",
   "name": "julia",
   "version": "1.9.2"
  },
  "orig_nbformat": 4
 },
 "nbformat": 4,
 "nbformat_minor": 2
}
